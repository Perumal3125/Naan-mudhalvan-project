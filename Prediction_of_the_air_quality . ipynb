import pandas as pd
from sklearn.ensemble import RandomForestClassifier
from sklearn.model_selection import train_test_split
from sklearn.preprocessing import LabelEncoder
from sklearn.metrics import classification_report, ConfusionMatrixDisplay
import matplotlib.pyplot as plt

# Load dataset
file_path = "air_quality_data.csv"  # Change if running locally
data = pd.read_csv(file_path)

# Drop prediction column if already present
if 'Predicted_Level' in data.columns:
    data = data.drop(columns=['Predicted_Level'])

# Prepare features and target
X = data.drop(columns=['Air_Quality_Level'])
y = data['Air_Quality_Level']

# Encode target labels
le = LabelEncoder()
y_encoded = le.fit_transform(y)

# Split data into train and test sets
X_train, X_test, y_train, y_test = train_test_split(X, y_encoded, test_size=0.2, random_state=42)

# Train the Random Forest Classifier
model = RandomForestClassifier(n_estimators=100, random_state=42)
model.fit(X_train, y_train)

# Predict on test set
y_pred_test = model.predict(X_test)

# Display classification report
print("Classification Report:")
print(classification_report(y_test, y_pred_test, target_names=le.classes_))

# Generate and show confusion matrix
disp = ConfusionMatrixDisplay.from_predictions(
    y_test, y_pred_test, display_labels=le.classes_, cmap=plt.cm.Blues, xticks_rotation=45
)
plt.title("Confusion Matrix for Air Quality Prediction")
plt.tight_layout()

# Save and optionally show the plot
plt.savefig("air_quality_confusion_matrix.png")
plt.show()
